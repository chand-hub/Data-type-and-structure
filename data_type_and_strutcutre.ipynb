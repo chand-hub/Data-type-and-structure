{
  "nbformat": 4,
  "nbformat_minor": 0,
  "metadata": {
    "colab": {
      "provenance": []
    },
    "kernelspec": {
      "name": "python3",
      "display_name": "Python 3"
    },
    "language_info": {
      "name": "python"
    }
  },
  "cells": [
    {
      "cell_type": "code",
      "execution_count": null,
      "metadata": {
        "id": "D66g651FeiW5"
      },
      "outputs": [],
      "source": []
    },
    {
      "cell_type": "markdown",
      "source": [
        "1. What are data structures, and why are they important?\n",
        "\n",
        " ***Data Structures***\n",
        "\n",
        "***Definition*** :-\n",
        "Data structures are ways to organize and store data in a computer so that it can be efficiently accessed, modified, and manipulated.\n",
        "\n",
        "***Importance***\n",
        "1. Efficient Data Management: Enables fast and efficient data retrieval and manipulation.\n",
        "2. Improved Performance: Optimizes algorithm performance and reduces computational time.\n",
        "3. Scalability: Allows for handling large amounts of data.\n",
        "\n",
        "Types\n",
        "1. Arrays: Store collections of elements.\n",
        "2. Linked Lists: Dynamic data structures.\n",
        "3. Stacks: Last-In-First-Out (LIFO) data structures.\n",
        "4. Queues: First-In-First-Out (FIFO) data structures.\n",
        "5. Trees: Hierarchical data structures.\n",
        "6. Graphs: Network data structures.\n",
        "\n",
        "Applications\n",
        "1. Databases: Organize and retrieve data.\n",
        "2. Algorithms: Enable efficient problem-solving.\n",
        "3. Software Development: Improve application performance.\n",
        "\n",
        "**2.** Explain the difference between mutable and immutable data types with examples.\n",
        "\n",
        "**Mutable Data Type**\n",
        "\n",
        "1. Definition: Can be modified after creation.\n",
        "2. Examples:\n",
        "    - Lists (e.g., [1, 2, 3])\n",
        "    - Dictionaries (e.g., {\"name\": \"John\", \"age\": 30})\n",
        "    - Sets (e.g., {1, 2, 3})\n",
        "\n",
        "**Immutable Data Types**\n",
        "1. Definition: Cannot be modified after creation.\n",
        "2. Examples:\n",
        "    - Integers (e.g., 5)\n",
        "    - Floats (e.g., 3.14)\n",
        "    - Strings (e.g., \"hello\")\n",
        "    - Tuples (e.g., (1, 2, 3))\n",
        "\n",
        "Key Differences\n",
        "1. Modifiability: Mutable data types can be changed, while immutable data types cannot.\n",
        "2. Memory Allocation: Immutable data types are more memory-efficient.\n",
        "\n",
        "**3.**What are the main differences between lists and tuples in Python?\n",
        "\n",
        "Lists\n",
        "1. Definition: Ordered, mutable collections of elements.\n",
        "2. Syntax: [1, 2, 3]\n",
        "3. Features:\n",
        "    - Can be modified after creation.\n",
        "    - Support indexing, slicing, and concatenation.\n",
        "\n",
        "Tuples\n",
        "1. Definition: Ordered, immutable collections of elements.\n",
        "2. Syntax: (1, 2, 3)\n",
        "3. Features:\n",
        "    - Cannot be modified after creation.\n",
        "    - Support indexing, slicing, and concatenation.\n",
        "**4**.Describe how dictionaries store data.\n",
        "\n",
        "Dictionaries are unordered data structures that store mappings of unique keys to values.\n",
        "\n",
        "Key Features\n",
        "1. Key-Value Pairs: Store data as pairs of keys and values.\n",
        "2. Unique Keys: Each key is unique and maps to a specific value.\n",
        "3. Mutable: Dictionaries can be modified after creation.\n",
        "\n",
        "Data Storage\n",
        "1. Hash Table: Dictionaries use a hash table data structure.\n",
        "2. Key Hashing: Keys are hashed to determine storage locations.\n",
        "\n",
        "Operations\n",
        "1. Insertion: Add new key-value pairs.\n",
        "2. Lookup: Retrieve values by keys.\n",
        "3. Update: Modify existing key-value pairs.\n",
        "4. Deletion: Remove key-value pairs.\n",
        "**5.**Why might you use a set instead of a list in Python?\n",
        "\n",
        "Sets\n",
        "1. Definition: Unordered collections of unique elements.\n",
        "2. Use Cases:\n",
        "    - Removing duplicates from a collection.\n",
        "    - Fast membership testing (e.g., checking if an element exists).\n",
        "\n",
        "Lists\n",
        "1. Definition: Ordered collections of elements.\n",
        "2. Use Cases:\n",
        "    - Maintaining order and indexing.\n",
        "    - Storing duplicate elements.\n",
        "\n",
        "Why Choose Sets?\n",
        "1. Fast Lookup: Sets provide faster membership testing.\n",
        "2. Uniqueness: Sets automatically remove duplicates.\n",
        "3. Efficient Operations: Sets support fast union, intersection, and difference operations.\n",
        "\n",
        "**6**.What is a string in Python, and how is it different from a list?\n",
        "\n",
        "Strings are sequences of characters, such as letters, numbers, or symbols, enclosed in quotes (single, double, or triple quotes).\n",
        "\n",
        "Key Features\n",
        "1. Immutable: Strings cannot be modified after creation.\n",
        "2. Ordered: Strings maintain the order of characters.\n",
        "3. Indexing: Strings support indexing and slicing.\n",
        "\n",
        "Difference from Lists\n",
        "1. Immutability: Strings are immutable, while lists are mutable.\n",
        "2. Character Sequence: Strings are sequences of characters, while lists can store various data types.\n",
        "3. Operations: Strings have specific methods for manipulation (e.g., split(), join()), while lists have methods like append() and sort().\n",
        "\n",
        "Use Cases\n",
        "1. Text Processing: Strings are ideal for working with text data.\n",
        "2. Data Representation: Strings can represent data in a human readable format.\n",
        "\n",
        "**7**.How do tuples ensure data integrity in Python?\n",
        "\n",
        "Tuples are immutable data structures in Python, meaning their contents cannot be modified after creation.\n",
        "\n",
        "Ensuring Data Integrity\n",
        "1. Preventing Unintended Changes: Tuples ensure data remains unchanged, preventing accidental modifications.\n",
        "2. Thread Safety: Tuples are safer in multithreaded environments, as multiple threads cannot modify the same tuple simultaneously.\n",
        "3. Code Reliability: Tuples promote code reliability by ensuring data consistency and predictability.\n",
        "\n",
        "**8**.What is a hash table, and how does it relate to dictionaries in Python?\n",
        "\n",
        "Hash tables are data structures that store key-value pairs using a hash function to map keys to specific indices.\n",
        "\n",
        "Key Features\n",
        "1. Fast Lookup: Hash tables enable fast lookup, insertion, and deletion operations.\n",
        "2. Key-Value Pairs: Store data as pairs of keys and values.\n",
        "\n",
        "Dictionaries in Python\n",
        "Implementation\n",
        "Python dictionaries are implemented using hash tables.\n",
        "\n",
        "Benefits\n",
        "1. Efficient Lookup: Dictionaries provide fast lookup and retrieval of values.\n",
        "2. Flexible Data Structure: Dictionaries are suitable for various applications.\n",
        "\n",
        "How Hash Tables Work\n",
        "1. Hash Function: Keys are hashed to determine storage locations.\n",
        "2. Indexing: Hashed keys are used to index the storage location.\n",
        "\n",
        "**9**.Can lists contain different data types in Python?\n",
        "\n",
        " lists in Python can contain different data types, such as:\n",
        "\n",
        "1. Integers: 1, 2, 3\n",
        "2. Strings: \"hello\", \"world\"\n",
        "3. Floats: 3.14, -0.5\n",
        "4. Booleans: True, False\n",
        "5. Other Lists: [1, 2], [3, 4]\n",
        "6. Dictionaries: {\"name\": \"John\"}, {\"age\": 30}\n",
        "\n",
        "Example\n",
        "my_list = [1, \"hello\", 3.14, True, [1, 2], {\"name\": \"John\"}]\n",
        "\n",
        "**10**.Explain why strings are immutable in Python.\n",
        "\n",
        "String Immutability in Python\n",
        "Reasons\n",
        "1. Security: Immutability ensures strings cannot be modified maliciously.\n",
        "2. Thread Safety: Immutable strings are safer in multithreaded environments.\n",
        "3. Hashability: Immutable strings can be used as dictionary keys.\n",
        "4. Performance: Immutability allows for efficient string handling.\n",
        "\n",
        "**11**.What advantages do dictionaries offer over lists for certain tasks?\n",
        "\n",
        "Advantages of Dictionaries\n",
        "1. Fast Lookup: Dictionaries provide faster lookup and retrieval of values.\n",
        "2. Key-Value Pairs: Dictionaries store data as key-value pairs, making it easier to access and manipulate data.\n",
        "3. Efficient Data Retrieval: Dictionaries enable efficient data retrieval by key.\n",
        "\n",
        "Use Cases\n",
        "1. Data Configuration: Dictionaries are suitable for storing configuration data.\n",
        "2. Caching: Dictionaries can be used as caches for fast data retrieval.\n",
        "3. Data Serialization: Dictionaries can be easily serialized and deserialized.\n",
        "\n",
        "**12**.Describe a scenario where using a tuple would be preferable over a list?\n",
        "\n",
        "Preferred Use Cases for Tuples\n",
        "1. Constant Data: Tuples are suitable for representing constant data that should not be changed.\n",
        "2. Data Integrity: Tuples ensure data integrity by preventing unintended modifications.\n",
        "3. Dictionary Keys: Tuples can be used as dictionary keys due to their immutability.\n",
        "4. Function Return Values: Tuples can be used to return multiple values from a function.\n",
        "\n",
        "**13**.How do sets handle duplicate values in Python?\n",
        "\n",
        "Handling Duplicate Values\n",
        "Sets automatically eliminate duplicate values, ensuring that each element is unique.\n",
        "\n",
        "How it Works\n",
        "1. Uniqueness: Sets only store unique elements.\n",
        "2. Duplicate Removal: When adding an element that already exists, sets ignore the duplicate.\n",
        "\n",
        "Benefits\n",
        "1. Efficient Storage: Sets store unique elements, reducing storage needs.\n",
        "2. Fast Lookup: Sets enable fast membership testing.\n",
        "\n",
        "Example\n",
        "my_set = {1, 2, 2, 3, 3, 3} results in my_set = {1, 2, 3}\n",
        "\n",
        "\n",
        "**14**. How does the “in” keyword work differently for lists and dictionaries?\n",
        "\n",
        "\"in\" Keyword\n",
        "Lists\n",
        "For lists, the \"in\" keyword checks if a value exists in the list.\n",
        "\n",
        "Example\n",
        "my_list = [1, 2, 3]; print(2 in my_list) returns True\n",
        "\n",
        "Dictionaries\n",
        "For dictionaries, the \"in\" keyword checks if a key exists in the dictionary.\n",
        "\n",
        "Example\n",
        "my_dict = {\"name\": \"John\", \"age\": 30}; print(\"name\" in my_dict) returns True\n",
        "\n",
        "\n",
        "**15**.Can you modify the elements of a tuple? Explain why or why not?\n",
        "\n",
        "No, i cannot modify the elements of a tuple in Python.\n",
        "\n",
        "Reason\n",
        "Tuples are immutable data structures, meaning their contents cannot be changed after creation.\n",
        "\n",
        "Attempting Modification\n",
        "Trying to modify a tuple element will raise a TypeError:\n",
        "\n",
        "my_tuple = (1, 2, 3); my_tuple[0] = 10 raises TypeError: 'tuple' object does not support item assignment.\n",
        "\n",
        "**16**. What is a nested dictionary, and give an example of its use case?\n",
        "\n",
        "A nested dictionary is a dictionary that contains another dictionary as its value.\n",
        "\n",
        "Structure\n",
        "{key1: {nested_key1: value1, nested_key2: value2}, key2: {nested_key3: value3}}\n",
        "\n",
        "Example Use Case\n",
        "Representing student information:\n",
        "\n",
        "\n",
        "students = {\n",
        "    \"John\": {\"age\": 20, \"grade\": \"A\"},\n",
        "    \"Alice\": {\"age\": 22, \"grade\": \"B\"}\n",
        "}\n",
        "\n",
        "**17**. Describe the time complexity of accessing elements in a dictionary?\n",
        "\n",
        "The time complexity of accessing elements in a dictionary is O(1) on average.\n",
        "\n",
        "Explanation\n",
        "1. Hash Table: Dictionaries are implemented using hash tables.\n",
        "2. Fast Lookup: Hash tables enable fast lookup, insertion, and deletion operations.\n",
        "\n",
        "**18**.In what situations are lists preferred over dictionaries?\n",
        "\n",
        "Preferred Use Cases for Lists\n",
        "1. Ordered Data: Lists are suitable for representing ordered data.\n",
        "2. Index-Based Access: Lists provide index-based access to elements.\n",
        "3. Duplicate Elements: Lists can store duplicate elements.\n",
        "4. Sequential Data: Lists are ideal for representing sequential data.\n",
        "\n",
        "Examples\n",
        "1. To-Do Lists: Lists can represent tasks in a specific order.\n",
        "2. Data Sequences: Lists can store data sequences, such as time series data.\n",
        "\n",
        "\n",
        "**19**.Why are dictionaries considered unordered, and how does that affect data retrieval?\n",
        "\n",
        "Unordered Nature\n",
        "Prior to Python 3.7, dictionaries were considered unordered data structures. However, from Python 3.7 onwards, dictionaries maintain their insertion order.\n",
        "\n",
        "Impact on Data Retrieval\n",
        "1. Pre-Python 3.7: Data retrieval was not guaranteed to be in any specific order.\n",
        "2. Python 3.7 and Later: Data retrieval follows the insertion order.\n",
        "\n",
        "**20**. Explain the difference between a list and a dictionary in terms of data retrieval.\n",
        "\n",
        "Data Retrieval\n",
        "1. Lists: Data retrieval is based on index, where elements are accessed using their position (e.g., my_list[0]).\n",
        "2. Dictionaries: Data retrieval is based on key, where values are accessed using their associated key (e.g., my_dict[\"name\"]).\n",
        "\n",
        "Key Differences\n",
        "1. Access Method: Lists use index-based access, while dictionaries use key-based access.\n",
        "2. Lookup Efficiency: Dictionaries provide faster lookup times for large datasets.\n",
        "\n",
        "\n",
        "\n"
      ],
      "metadata": {
        "id": "UpUtabtrelc6"
      }
    },
    {
      "cell_type": "code",
      "source": [
        "#Write a code to create a string with your name and print it\n",
        "\"\"\"name = \"Md Chand\"\n",
        "print(name)\"\"\"\n"
      ],
      "metadata": {
        "colab": {
          "base_uri": "https://localhost:8080/",
          "height": 35
        },
        "id": "jYMnXKF-k4ac",
        "outputId": "d41bf6ba-18a9-49d6-88e8-02608aa94781"
      },
      "execution_count": null,
      "outputs": [
        {
          "output_type": "execute_result",
          "data": {
            "text/plain": [
              "'name = \"Md Chand\" \\nprint(name)'"
            ],
            "application/vnd.google.colaboratory.intrinsic+json": {
              "type": "string"
            }
          },
          "metadata": {},
          "execution_count": 1
        }
      ]
    },
    {
      "cell_type": "code",
      "source": [
        "#write a code to find the length of the string\"Hello World\"\n",
        "\"\"\"string = \"Hello World\"\n",
        "lenth = len(string)\"\"\""
      ],
      "metadata": {
        "colab": {
          "base_uri": "https://localhost:8080/",
          "height": 35
        },
        "id": "V3Fk8urelrGD",
        "outputId": "fcf542f2-7567-4358-e12d-488ad05a9186"
      },
      "execution_count": null,
      "outputs": [
        {
          "output_type": "execute_result",
          "data": {
            "text/plain": [
              "'string = \"Hello World\"\\nlenth = len(string)'"
            ],
            "application/vnd.google.colaboratory.intrinsic+json": {
              "type": "string"
            }
          },
          "metadata": {},
          "execution_count": 2
        }
      ]
    },
    {
      "cell_type": "code",
      "source": [
        "#Write a code to slice the first 3 characters from the string \"Python Programming\"\n",
        "\"\"\"string = \"Python Programming\"\n",
        "sliced_string = string[:3]\n",
        "print(sliced_string)\"\"\""
      ],
      "metadata": {
        "colab": {
          "base_uri": "https://localhost:8080/",
          "height": 35
        },
        "id": "nKcBrPcNmS0B",
        "outputId": "7254fb57-44ea-469b-fdfe-68e55f91b18c"
      },
      "execution_count": null,
      "outputs": [
        {
          "output_type": "execute_result",
          "data": {
            "text/plain": [
              "'string = \"Python Programming\"\\nsliced_string = string[:3]\\nprint(sliced_string)'"
            ],
            "application/vnd.google.colaboratory.intrinsic+json": {
              "type": "string"
            }
          },
          "metadata": {},
          "execution_count": 3
        }
      ]
    },
    {
      "cell_type": "code",
      "source": [
        "#Write a code to convert the string \"hello\" to uppercase\n",
        "\"\"\"string = \"hello\"\n",
        "uppercase_string = string.upper()\n",
        "print(uppercase_string)\"\"\""
      ],
      "metadata": {
        "colab": {
          "base_uri": "https://localhost:8080/",
          "height": 35
        },
        "id": "diKNKRtYm82a",
        "outputId": "32ef175b-e1fb-4c46-a9f0-86a82de9876f"
      },
      "execution_count": null,
      "outputs": [
        {
          "output_type": "execute_result",
          "data": {
            "text/plain": [
              "'string = \"hello\"\\nuppercase_string = string.upper()\\nprint(uppercase_string)'"
            ],
            "application/vnd.google.colaboratory.intrinsic+json": {
              "type": "string"
            }
          },
          "metadata": {},
          "execution_count": 4
        }
      ]
    },
    {
      "cell_type": "code",
      "source": [
        "#Write a code to replace the word \"apple\" with \"orange\" in the string \"I like apple\n",
        "\"\"\"string = \"I like apple\"\n",
        "new_string = string.replace(\"apple\", \"orange\")\n",
        "print(new_string)\"\"\""
      ],
      "metadata": {
        "colab": {
          "base_uri": "https://localhost:8080/",
          "height": 35
        },
        "id": "kvdH_Y5LnlMp",
        "outputId": "411de580-dba5-49eb-891d-97d4cd3caad7"
      },
      "execution_count": null,
      "outputs": [
        {
          "output_type": "execute_result",
          "data": {
            "text/plain": [
              "'string = \"I like apple\"\\nnew_string = string.replace(\"apple\", \"orange\")\\nprint(new_string)'"
            ],
            "application/vnd.google.colaboratory.intrinsic+json": {
              "type": "string"
            }
          },
          "metadata": {},
          "execution_count": 6
        }
      ]
    },
    {
      "cell_type": "code",
      "source": [
        "# Write a code to create a list with numbers 1 to 5 and print it.\n",
        "\"\"\"numbers = [1, 2, 3, 4, 5]\n",
        "print(numbers)\"\"\""
      ],
      "metadata": {
        "colab": {
          "base_uri": "https://localhost:8080/",
          "height": 35
        },
        "id": "WFgTdMVtn-N6",
        "outputId": "38b7c707-7dd8-41cb-e9ff-50120af72d63"
      },
      "execution_count": null,
      "outputs": [
        {
          "output_type": "execute_result",
          "data": {
            "text/plain": [
              "'numbers = [1, 2, 3, 4, 5]\\nprint(numbers)'"
            ],
            "application/vnd.google.colaboratory.intrinsic+json": {
              "type": "string"
            }
          },
          "metadata": {},
          "execution_count": 7
        }
      ]
    },
    {
      "cell_type": "code",
      "source": [
        "# Write a code to append the number 10 to the list [1, 2, 3, 4].\n",
        "\"\"\"numbers = [1, 2, 3, 4]\n",
        "numbers.append(10)\n",
        "print(numbers)\"\"\""
      ],
      "metadata": {
        "colab": {
          "base_uri": "https://localhost:8080/",
          "height": 35
        },
        "id": "9s2BHCMKoz7C",
        "outputId": "df7a00eb-48aa-4997-c953-18fa4c284d2c"
      },
      "execution_count": null,
      "outputs": [
        {
          "output_type": "execute_result",
          "data": {
            "text/plain": [
              "'numbers = [1, 2, 3, 4]\\nnumbers.append(10)\\nprint(numbers)'"
            ],
            "application/vnd.google.colaboratory.intrinsic+json": {
              "type": "string"
            }
          },
          "metadata": {},
          "execution_count": 9
        }
      ]
    },
    {
      "cell_type": "code",
      "source": [
        "#Write a code to remove the number 3 from the list [1, 2, 3, 4, 5].\n",
        "numbers = [1, 2, 3, 4, 5]\n",
        "numbers.remove(3)\n",
        "print(numbers)"
      ],
      "metadata": {
        "colab": {
          "base_uri": "https://localhost:8080/"
        },
        "id": "rfSS1SC9pIz9",
        "outputId": "586e1e2b-fe65-4011-d587-1099561719ee"
      },
      "execution_count": null,
      "outputs": [
        {
          "output_type": "stream",
          "name": "stdout",
          "text": [
            "[1, 2, 4, 5]\n"
          ]
        }
      ]
    },
    {
      "cell_type": "code",
      "source": [
        "#Write a code to access the second element in the list ['a', 'b', 'c', 'd'].\n",
        "letters = ['a', 'b', 'c', 'd']\n",
        "second_element = letters[1]\n",
        "print(second_element)"
      ],
      "metadata": {
        "colab": {
          "base_uri": "https://localhost:8080/"
        },
        "id": "Qrb6F1J2pkQW",
        "outputId": "f62f9dc4-6a82-43e0-fb86-78116ac763db"
      },
      "execution_count": null,
      "outputs": [
        {
          "output_type": "stream",
          "name": "stdout",
          "text": [
            "b\n"
          ]
        }
      ]
    },
    {
      "cell_type": "code",
      "source": [
        "#Write a code to reverse the list [10, 20, 30, 40, 50].\n",
        "numbers = [10, 20, 30, 40, 50]\n",
        "reversed_numbers = numbers[::-1]\n",
        "print(reversed_numbers)"
      ],
      "metadata": {
        "colab": {
          "base_uri": "https://localhost:8080/"
        },
        "id": "tZ5uE_1Ip3Sv",
        "outputId": "2054142f-836d-4120-af52-3d7fd437e90b"
      },
      "execution_count": null,
      "outputs": [
        {
          "output_type": "stream",
          "name": "stdout",
          "text": [
            "[50, 40, 30, 20, 10]\n"
          ]
        }
      ]
    },
    {
      "cell_type": "code",
      "source": [
        "#Write a code to create a tuple with the elements 100, 200, 300 and print it.\n",
        "my_tuple = (100, 200, 300)\n",
        "print(my_tuple)"
      ],
      "metadata": {
        "colab": {
          "base_uri": "https://localhost:8080/"
        },
        "id": "p62GOBOqymhT",
        "outputId": "b6a86dae-8a2c-4c88-ecb9-0e1081eb1888"
      },
      "execution_count": null,
      "outputs": [
        {
          "output_type": "stream",
          "name": "stdout",
          "text": [
            "(100, 200, 300)\n"
          ]
        }
      ]
    },
    {
      "cell_type": "code",
      "source": [
        "#Write a code to access the second-to-last element of the tuple ('red', 'green', 'blue', 'yellow').\n",
        "colors = ('red', 'green', 'blue', 'yellow')\n",
        "second_to_last_element = colors[-2]\n",
        "print(second_to_last_element)"
      ],
      "metadata": {
        "colab": {
          "base_uri": "https://localhost:8080/"
        },
        "id": "CBefFbgiyzja",
        "outputId": "b0a07c14-e795-4e4d-cc09-7b8e3085ffaa"
      },
      "execution_count": null,
      "outputs": [
        {
          "output_type": "stream",
          "name": "stdout",
          "text": [
            "blue\n"
          ]
        }
      ]
    },
    {
      "cell_type": "code",
      "source": [
        "#Write a code to find the minimum number in the tuple (10, 20, 5, 15).\n",
        "my_tuple = (10, 20, 5, 15)\n",
        "minimum_number = min(my_tuple)\n",
        "print(minimum_number)"
      ],
      "metadata": {
        "colab": {
          "base_uri": "https://localhost:8080/"
        },
        "id": "zCPbQctHy9Ur",
        "outputId": "5fe54d02-f08d-45a7-c296-0a879965bbbc"
      },
      "execution_count": null,
      "outputs": [
        {
          "output_type": "stream",
          "name": "stdout",
          "text": [
            "5\n"
          ]
        }
      ]
    },
    {
      "cell_type": "code",
      "source": [
        "# Write a code to find the index of the element \"cat\" in the tuple ('dog', 'cat', 'rabbit').\n",
        "my_tuple = ('dog', 'cat', 'rabbit')\n",
        "index_of_cat = my_tuple.index('cat')\n",
        "print(index_of_cat)"
      ],
      "metadata": {
        "colab": {
          "base_uri": "https://localhost:8080/"
        },
        "id": "P848-LRDzFHS",
        "outputId": "5ff9876b-7c20-4065-8980-b6221a404e2e"
      },
      "execution_count": null,
      "outputs": [
        {
          "output_type": "stream",
          "name": "stdout",
          "text": [
            "1\n"
          ]
        }
      ]
    },
    {
      "cell_type": "code",
      "source": [
        "#Write a code to create a tuple containing three different fruits and check if \"kiwi\" is in it.\n",
        "fruits = ('apple', 'banana', 'orange')\n",
        "is_kiwi_in_tuple = 'kiwi' in fruits\n",
        "print(is_kiwi_in_tuple)"
      ],
      "metadata": {
        "colab": {
          "base_uri": "https://localhost:8080/"
        },
        "id": "Od55QIXBzMlD",
        "outputId": "9e32fe16-854c-4fc6-a365-4df8cf361c43"
      },
      "execution_count": null,
      "outputs": [
        {
          "output_type": "stream",
          "name": "stdout",
          "text": [
            "False\n"
          ]
        }
      ]
    },
    {
      "cell_type": "code",
      "source": [
        "# Write a code to create a set with the elements 'a', 'b', 'c' and print it.\n",
        "my_set = {'a', 'b', 'c'}\n",
        "print(my_set)"
      ],
      "metadata": {
        "colab": {
          "base_uri": "https://localhost:8080/"
        },
        "id": "9wNyD_TdzYLp",
        "outputId": "fe803bce-ebae-423b-b4c6-325ca44ca3c8"
      },
      "execution_count": null,
      "outputs": [
        {
          "output_type": "stream",
          "name": "stdout",
          "text": [
            "{'a', 'c', 'b'}\n"
          ]
        }
      ]
    },
    {
      "cell_type": "code",
      "source": [
        "#Write a code to clear all elements from the set {1, 2, 3, 4, 5}.\n",
        "my_set = {1, 2, 3, 4, 5}\n",
        "my_set.clear()\n",
        "print(my_set)"
      ],
      "metadata": {
        "colab": {
          "base_uri": "https://localhost:8080/"
        },
        "id": "u6qG_FDPzh9D",
        "outputId": "36b00f1f-240d-449f-d2d6-af9eeaf439cb"
      },
      "execution_count": null,
      "outputs": [
        {
          "output_type": "stream",
          "name": "stdout",
          "text": [
            "set()\n"
          ]
        }
      ]
    },
    {
      "cell_type": "code",
      "source": [
        "#Write a code to remove the element 4 from the set {1, 2, 3, 4}.\n",
        "my_set = {1, 2, 3, 4}\n",
        "my_set.remove(4)\n",
        "print(my_set)"
      ],
      "metadata": {
        "colab": {
          "base_uri": "https://localhost:8080/"
        },
        "id": "kCUnIgaRzoBe",
        "outputId": "56c2b625-806f-4cc8-edbd-d84574aca81f"
      },
      "execution_count": null,
      "outputs": [
        {
          "output_type": "stream",
          "name": "stdout",
          "text": [
            "{1, 2, 3}\n"
          ]
        }
      ]
    },
    {
      "cell_type": "code",
      "source": [
        "#Write a code to find the union of two sets {1, 2, 3} and {3, 4, 5}\n",
        "set1 = {1, 2, 3}\n",
        "set2 = {3, 4, 5}\n",
        "union_set = set1.union(set2)\n",
        "print(union_set)"
      ],
      "metadata": {
        "colab": {
          "base_uri": "https://localhost:8080/"
        },
        "id": "DQOug3RozvKt",
        "outputId": "d3bcbee0-a914-4b01-f641-c97ab371e6a8"
      },
      "execution_count": null,
      "outputs": [
        {
          "output_type": "stream",
          "name": "stdout",
          "text": [
            "{1, 2, 3, 4, 5}\n"
          ]
        }
      ]
    },
    {
      "cell_type": "code",
      "source": [
        "#Write a code to find the intersection of two sets {1, 2, 3} and {2, 3, 4}.\n",
        "set1 = {1, 2, 3}\n",
        "set2 = {2, 3, 4}\n",
        "intersection_set = set1.intersection(set2)\n",
        "print(intersection_set)"
      ],
      "metadata": {
        "colab": {
          "base_uri": "https://localhost:8080/"
        },
        "id": "P_Hutf7fz2Xw",
        "outputId": "0efecb96-5417-4fcb-b220-8edc1b45570d"
      },
      "execution_count": null,
      "outputs": [
        {
          "output_type": "stream",
          "name": "stdout",
          "text": [
            "{2, 3}\n"
          ]
        }
      ]
    },
    {
      "cell_type": "code",
      "source": [
        "#Write a code to create a dictionary with the keys \"name\", \"age\", and \"city\", and print it.\n",
        "my_dict = {\"name\": \"John\", \"age\": 30, \"city\": \"New York\"}\n",
        "print(my_dict)"
      ],
      "metadata": {
        "colab": {
          "base_uri": "https://localhost:8080/"
        },
        "id": "eRre10am0RQq",
        "outputId": "97e167e3-e5b5-4caf-cb84-fb316c7fda7e"
      },
      "execution_count": null,
      "outputs": [
        {
          "output_type": "stream",
          "name": "stdout",
          "text": [
            "{'name': 'John', 'age': 30, 'city': 'New York'}\n"
          ]
        }
      ]
    },
    {
      "cell_type": "code",
      "source": [
        "#Write a code to add a new key-value pair \"country\": \"USA\" to the dictionary {'name': 'John', 'age': 25}\n",
        "my_dict = {'name': 'John', 'age': 25}\n",
        "my_dict['country'] = 'USA'\n",
        "print(my_dict)\n",
        "#"
      ],
      "metadata": {
        "colab": {
          "base_uri": "https://localhost:8080/"
        },
        "id": "X5noP-2Y0bxf",
        "outputId": "4d15c2ff-e89d-4055-f63c-a4d30facfa3f"
      },
      "execution_count": null,
      "outputs": [
        {
          "output_type": "stream",
          "name": "stdout",
          "text": [
            "{'name': 'John', 'age': 25, 'country': 'USA'}\n"
          ]
        }
      ]
    },
    {
      "cell_type": "code",
      "source": [
        "#Write a code to access the value associated with the key \"name\" in the dictionary {'name': 'Alice', 'age': 30}.\n",
        "my_dict = {'name': 'Alice', 'age': 30}\n",
        "name_value = my_dict['name']\n",
        "print(name_value)\n",
        "#"
      ],
      "metadata": {
        "colab": {
          "base_uri": "https://localhost:8080/"
        },
        "id": "V4UB8_ca0i_S",
        "outputId": "5efb57ff-a92d-4ac0-9845-6236b0b3005c"
      },
      "execution_count": null,
      "outputs": [
        {
          "output_type": "stream",
          "name": "stdout",
          "text": [
            "Alice\n"
          ]
        }
      ]
    },
    {
      "cell_type": "code",
      "source": [
        "#Write a code to remove the key \"age\" from the dictionary {'name': 'Bob', 'age': 22, 'city': 'New York'}.\n",
        "my_dict = {'name': 'Bob', 'age': 22, 'city': 'New York'}\n",
        "del my_dict['age']\n",
        "print(my_dict)\n"
      ],
      "metadata": {
        "colab": {
          "base_uri": "https://localhost:8080/"
        },
        "id": "wqOXBQBr0qJb",
        "outputId": "aa2dfeb0-2606-4556-e8bc-7d961de2a1fc"
      },
      "execution_count": null,
      "outputs": [
        {
          "output_type": "stream",
          "name": "stdout",
          "text": [
            "{'name': 'Bob', 'city': 'New York'}\n"
          ]
        }
      ]
    },
    {
      "cell_type": "code",
      "source": [
        "#Write a code to check if the key \"city\" exists in the dictionary {'name': 'Alice', 'city': 'Paris'}.\n",
        "my_dict = {'name': 'Alice', 'city': 'Paris'}\n",
        "city_exists = 'city' in my_dict\n",
        "print(city_exists)"
      ],
      "metadata": {
        "colab": {
          "base_uri": "https://localhost:8080/"
        },
        "id": "WChOB06C0wFh",
        "outputId": "6576f978-d551-4567-deb8-9a9545cd35aa"
      },
      "execution_count": null,
      "outputs": [
        {
          "output_type": "stream",
          "name": "stdout",
          "text": [
            "True\n"
          ]
        }
      ]
    },
    {
      "cell_type": "code",
      "source": [
        "#Write a code to create a list, a tuple, and a dictionary, and print them all.\n",
        "my_list = [1, 2, 3]\n",
        "my_tuple = (4, 5, 6)\n",
        "my_dict = {'name': 'John', 'age': 30}"
      ],
      "metadata": {
        "id": "SNo8AYZG04SC"
      },
      "execution_count": null,
      "outputs": []
    },
    {
      "cell_type": "code",
      "source": [
        "#Write a code to create a list of 5 random numbers between 1 and 100, sort it in ascending order, and print the\n",
        "result.(replaced)\n",
        "random_numbers = [random.randint(1, 100) for _ in range(5)]\n",
        "sorted_numbers = sorted(random_numbers)\n",
        "print(sorted_numbers)\n"
      ],
      "metadata": {
        "id": "VkFvElfA0-gC",
        "colab": {
          "base_uri": "https://localhost:8080/",
          "height": 106
        },
        "outputId": "d6d485c0-c16b-415c-84c4-64d2e1d8176a"
      },
      "execution_count": 31,
      "outputs": [
        {
          "output_type": "error",
          "ename": "SyntaxError",
          "evalue": "invalid syntax (<ipython-input-31-2e7a95decbcd>, line 2)",
          "traceback": [
            "\u001b[0;36m  File \u001b[0;32m\"<ipython-input-31-2e7a95decbcd>\"\u001b[0;36m, line \u001b[0;32m2\u001b[0m\n\u001b[0;31m    result.(replaced)\u001b[0m\n\u001b[0m           ^\u001b[0m\n\u001b[0;31mSyntaxError\u001b[0m\u001b[0;31m:\u001b[0m invalid syntax\n"
          ]
        }
      ]
    },
    {
      "cell_type": "code",
      "source": [
        "#Write a code to create a list with strings and print the element at the third index.\n",
        "strings_list = [\"apple\", \"banana\", \"cherry\", \"date\", \"elderberry\"]\n",
        "third_element = strings_list[2]\n",
        "print(third_element)"
      ],
      "metadata": {
        "colab": {
          "base_uri": "https://localhost:8080/"
        },
        "id": "rOZETRz21txC",
        "outputId": "5d3e9a4b-16a2-476e-a00c-c2788539f3af"
      },
      "execution_count": 32,
      "outputs": [
        {
          "output_type": "stream",
          "name": "stdout",
          "text": [
            "cherry\n"
          ]
        }
      ]
    },
    {
      "cell_type": "code",
      "source": [
        "#Write a code to combine two dictionaries into one and print the result.\n",
        "\"\"\"dict1 = {\"a\": 1, \"b\": 2}\n",
        "dict2 = {\"c\": 3, \"d\": 4}\n",
        "combined_dict = {**dict1,**dict2}\n",
        "print(\"combined dictionary:\",combined_dict)\"\"\""
      ],
      "metadata": {
        "colab": {
          "base_uri": "https://localhost:8080/",
          "height": 35
        },
        "id": "kFsXHhDD2G58",
        "outputId": "2c620604-3c11-4121-bb48-412104b0d204"
      },
      "execution_count": 33,
      "outputs": [
        {
          "output_type": "execute_result",
          "data": {
            "text/plain": [
              "'dict1 = {\"a\": 1, \"b\": 2}\\ndict2 = {\"c\": 3, \"d\": 4}\\ncombined_dict = {**dict1,**dict2}\\nprint(\"combined dictionary:\",combined_dict)'"
            ],
            "application/vnd.google.colaboratory.intrinsic+json": {
              "type": "string"
            }
          },
          "metadata": {},
          "execution_count": 33
        }
      ]
    },
    {
      "cell_type": "code",
      "source": [
        "#Write a code to convert a list of strings into a set.\n",
        "strings_list = [\"apple\", \"banana\", \"cherry\", \"date\", \"elderberry\"]\n",
        "string_set = set(strings_list)\n",
        "print(string_set)"
      ],
      "metadata": {
        "colab": {
          "base_uri": "https://localhost:8080/"
        },
        "id": "2q2J3DPi5gLa",
        "outputId": "446a1a6a-190c-4978-d401-c034cb454a40"
      },
      "execution_count": 34,
      "outputs": [
        {
          "output_type": "stream",
          "name": "stdout",
          "text": [
            "{'banana', 'date', 'elderberry', 'apple', 'cherry'}\n"
          ]
        }
      ]
    },
    {
      "cell_type": "code",
      "source": [],
      "metadata": {
        "id": "vR8iIbS05nkP"
      },
      "execution_count": null,
      "outputs": []
    }
  ]
}